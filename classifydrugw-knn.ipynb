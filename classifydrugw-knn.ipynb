{
 "cells": [
  {
   "cell_type": "code",
   "execution_count": 1,
   "id": "66e881b0",
   "metadata": {
    "_cell_guid": "b1076dfc-b9ad-4769-8c92-a6c4dae69d19",
    "_uuid": "8f2839f25d086af736a60e9eeb907d3b93b6e0e5",
    "execution": {
     "iopub.execute_input": "2021-08-24T12:38:28.052602Z",
     "iopub.status.busy": "2021-08-24T12:38:28.051416Z",
     "iopub.status.idle": "2021-08-24T12:38:28.070920Z",
     "shell.execute_reply": "2021-08-24T12:38:28.071575Z",
     "shell.execute_reply.started": "2021-08-24T11:28:34.228221Z"
    },
    "papermill": {
     "duration": 0.055976,
     "end_time": "2021-08-24T12:38:28.071946",
     "exception": false,
     "start_time": "2021-08-24T12:38:28.015970",
     "status": "completed"
    },
    "tags": []
   },
   "outputs": [
    {
     "name": "stdout",
     "output_type": "stream",
     "text": [
      "/kaggle/input/drug-classification/drug200.csv\n"
     ]
    }
   ],
   "source": [
    "# This Python 3 environment comes with many helpful analytics libraries installed\n",
    "# It is defined by the kaggle/python Docker image: https://github.com/kaggle/docker-python\n",
    "# For example, here's several helpful packages to load\n",
    "\n",
    "import numpy as np # linear algebra\n",
    "import pandas as pd # data processing, CSV file I/O (e.g. pd.read_csv)\n",
    "\n",
    "# Input data files are available in the read-only \"../input/\" directory\n",
    "# For example, running this (by clicking run or pressing Shift+Enter) will list all files under the input directory\n",
    "\n",
    "import os\n",
    "for dirname, _, filenames in os.walk('/kaggle/input'):\n",
    "    for filename in filenames:\n",
    "        print(os.path.join(dirname, filename))\n",
    "\n",
    "# You can write up to 20GB to the current directory (/kaggle/working/) that gets preserved as output when you create a version using \"Save & Run All\" \n",
    "# You can also write temporary files to /kaggle/temp/, but they won't be saved outside of the current session"
   ]
  },
  {
   "cell_type": "code",
   "execution_count": 2,
   "id": "b8648b95",
   "metadata": {
    "execution": {
     "iopub.execute_input": "2021-08-24T12:38:28.138781Z",
     "iopub.status.busy": "2021-08-24T12:38:28.138150Z",
     "iopub.status.idle": "2021-08-24T12:38:29.398876Z",
     "shell.execute_reply": "2021-08-24T12:38:29.398191Z",
     "shell.execute_reply.started": "2021-08-24T12:18:12.248379Z"
    },
    "papermill": {
     "duration": 1.294432,
     "end_time": "2021-08-24T12:38:29.399028",
     "exception": false,
     "start_time": "2021-08-24T12:38:28.104596",
     "status": "completed"
    },
    "tags": []
   },
   "outputs": [],
   "source": [
    "## visualization\n",
    "import seaborn as sns\n",
    "import matplotlib.pyplot as plt\n",
    "\n",
    "## preprocessing\n",
    "from sklearn.model_selection import train_test_split, GridSearchCV\n",
    "from sklearn.preprocessing import MinMaxScaler, OneHotEncoder, LabelEncoder\n",
    "from sklearn.impute import SimpleImputer\n",
    "\n",
    "## model\n",
    "from sklearn.neighbors import KNeighborsClassifier\n",
    "from sklearn.metrics import accuracy_score, confusion_matrix, classification_report, ConfusionMatrixDisplay\n",
    "\n",
    "## pipeline\n",
    "from sklearn.pipeline import Pipeline\n",
    "\n",
    "import random\n",
    "\n",
    "seed = random.seed(100)"
   ]
  },
  {
   "cell_type": "markdown",
   "id": "01a429f5",
   "metadata": {
    "papermill": {
     "duration": 0.031809,
     "end_time": "2021-08-24T12:38:29.463503",
     "exception": false,
     "start_time": "2021-08-24T12:38:29.431694",
     "status": "completed"
    },
    "tags": []
   },
   "source": [
    "## Loading Dataset and Basic Analysis"
   ]
  },
  {
   "cell_type": "code",
   "execution_count": 3,
   "id": "3921443f",
   "metadata": {
    "execution": {
     "iopub.execute_input": "2021-08-24T12:38:29.534477Z",
     "iopub.status.busy": "2021-08-24T12:38:29.533749Z",
     "iopub.status.idle": "2021-08-24T12:38:29.571729Z",
     "shell.execute_reply": "2021-08-24T12:38:29.572256Z",
     "shell.execute_reply.started": "2021-08-24T12:04:38.753435Z"
    },
    "papermill": {
     "duration": 0.075336,
     "end_time": "2021-08-24T12:38:29.572441",
     "exception": false,
     "start_time": "2021-08-24T12:38:29.497105",
     "status": "completed"
    },
    "tags": []
   },
   "outputs": [
    {
     "data": {
      "text/html": [
       "<div>\n",
       "<style scoped>\n",
       "    .dataframe tbody tr th:only-of-type {\n",
       "        vertical-align: middle;\n",
       "    }\n",
       "\n",
       "    .dataframe tbody tr th {\n",
       "        vertical-align: top;\n",
       "    }\n",
       "\n",
       "    .dataframe thead th {\n",
       "        text-align: right;\n",
       "    }\n",
       "</style>\n",
       "<table border=\"1\" class=\"dataframe\">\n",
       "  <thead>\n",
       "    <tr style=\"text-align: right;\">\n",
       "      <th></th>\n",
       "      <th>Age</th>\n",
       "      <th>Sex</th>\n",
       "      <th>BP</th>\n",
       "      <th>Cholesterol</th>\n",
       "      <th>Na_to_K</th>\n",
       "      <th>Drug</th>\n",
       "    </tr>\n",
       "  </thead>\n",
       "  <tbody>\n",
       "    <tr>\n",
       "      <th>0</th>\n",
       "      <td>23</td>\n",
       "      <td>F</td>\n",
       "      <td>HIGH</td>\n",
       "      <td>HIGH</td>\n",
       "      <td>25.355</td>\n",
       "      <td>DrugY</td>\n",
       "    </tr>\n",
       "    <tr>\n",
       "      <th>1</th>\n",
       "      <td>47</td>\n",
       "      <td>M</td>\n",
       "      <td>LOW</td>\n",
       "      <td>HIGH</td>\n",
       "      <td>13.093</td>\n",
       "      <td>drugC</td>\n",
       "    </tr>\n",
       "    <tr>\n",
       "      <th>2</th>\n",
       "      <td>47</td>\n",
       "      <td>M</td>\n",
       "      <td>LOW</td>\n",
       "      <td>HIGH</td>\n",
       "      <td>10.114</td>\n",
       "      <td>drugC</td>\n",
       "    </tr>\n",
       "    <tr>\n",
       "      <th>3</th>\n",
       "      <td>28</td>\n",
       "      <td>F</td>\n",
       "      <td>NORMAL</td>\n",
       "      <td>HIGH</td>\n",
       "      <td>7.798</td>\n",
       "      <td>drugX</td>\n",
       "    </tr>\n",
       "    <tr>\n",
       "      <th>4</th>\n",
       "      <td>61</td>\n",
       "      <td>F</td>\n",
       "      <td>LOW</td>\n",
       "      <td>HIGH</td>\n",
       "      <td>18.043</td>\n",
       "      <td>DrugY</td>\n",
       "    </tr>\n",
       "  </tbody>\n",
       "</table>\n",
       "</div>"
      ],
      "text/plain": [
       "   Age Sex      BP Cholesterol  Na_to_K   Drug\n",
       "0   23   F    HIGH        HIGH   25.355  DrugY\n",
       "1   47   M     LOW        HIGH   13.093  drugC\n",
       "2   47   M     LOW        HIGH   10.114  drugC\n",
       "3   28   F  NORMAL        HIGH    7.798  drugX\n",
       "4   61   F     LOW        HIGH   18.043  DrugY"
      ]
     },
     "execution_count": 3,
     "metadata": {},
     "output_type": "execute_result"
    }
   ],
   "source": [
    "path = '../input/drug-classification/drug200.csv'\n",
    "dataLoad = pd.read_csv(path)\n",
    "dataLoad.head()"
   ]
  },
  {
   "cell_type": "code",
   "execution_count": 4,
   "id": "a70391ca",
   "metadata": {
    "execution": {
     "iopub.execute_input": "2021-08-24T12:38:29.642515Z",
     "iopub.status.busy": "2021-08-24T12:38:29.641808Z",
     "iopub.status.idle": "2021-08-24T12:38:29.661520Z",
     "shell.execute_reply": "2021-08-24T12:38:29.662297Z",
     "shell.execute_reply.started": "2021-08-24T12:04:40.204361Z"
    },
    "papermill": {
     "duration": 0.056844,
     "end_time": "2021-08-24T12:38:29.662542",
     "exception": false,
     "start_time": "2021-08-24T12:38:29.605698",
     "status": "completed"
    },
    "tags": []
   },
   "outputs": [
    {
     "name": "stdout",
     "output_type": "stream",
     "text": [
      "<class 'pandas.core.frame.DataFrame'>\n",
      "RangeIndex: 200 entries, 0 to 199\n",
      "Data columns (total 6 columns):\n",
      " #   Column       Non-Null Count  Dtype  \n",
      "---  ------       --------------  -----  \n",
      " 0   Age          200 non-null    int64  \n",
      " 1   Sex          200 non-null    object \n",
      " 2   BP           200 non-null    object \n",
      " 3   Cholesterol  200 non-null    object \n",
      " 4   Na_to_K      200 non-null    float64\n",
      " 5   Drug         200 non-null    object \n",
      "dtypes: float64(1), int64(1), object(4)\n",
      "memory usage: 9.5+ KB\n"
     ]
    }
   ],
   "source": [
    "dataLoad.info()"
   ]
  },
  {
   "cell_type": "code",
   "execution_count": 5,
   "id": "83b6ad2a",
   "metadata": {
    "execution": {
     "iopub.execute_input": "2021-08-24T12:38:29.733364Z",
     "iopub.status.busy": "2021-08-24T12:38:29.732693Z",
     "iopub.status.idle": "2021-08-24T12:38:29.754584Z",
     "shell.execute_reply": "2021-08-24T12:38:29.754025Z",
     "shell.execute_reply.started": "2021-08-24T12:04:41.142131Z"
    },
    "papermill": {
     "duration": 0.057012,
     "end_time": "2021-08-24T12:38:29.754739",
     "exception": false,
     "start_time": "2021-08-24T12:38:29.697727",
     "status": "completed"
    },
    "tags": []
   },
   "outputs": [
    {
     "data": {
      "text/html": [
       "<div>\n",
       "<style scoped>\n",
       "    .dataframe tbody tr th:only-of-type {\n",
       "        vertical-align: middle;\n",
       "    }\n",
       "\n",
       "    .dataframe tbody tr th {\n",
       "        vertical-align: top;\n",
       "    }\n",
       "\n",
       "    .dataframe thead th {\n",
       "        text-align: right;\n",
       "    }\n",
       "</style>\n",
       "<table border=\"1\" class=\"dataframe\">\n",
       "  <thead>\n",
       "    <tr style=\"text-align: right;\">\n",
       "      <th></th>\n",
       "      <th>Age</th>\n",
       "      <th>Na_to_K</th>\n",
       "    </tr>\n",
       "  </thead>\n",
       "  <tbody>\n",
       "    <tr>\n",
       "      <th>count</th>\n",
       "      <td>200.000000</td>\n",
       "      <td>200.000000</td>\n",
       "    </tr>\n",
       "    <tr>\n",
       "      <th>mean</th>\n",
       "      <td>44.315000</td>\n",
       "      <td>16.084485</td>\n",
       "    </tr>\n",
       "    <tr>\n",
       "      <th>std</th>\n",
       "      <td>16.544315</td>\n",
       "      <td>7.223956</td>\n",
       "    </tr>\n",
       "    <tr>\n",
       "      <th>min</th>\n",
       "      <td>15.000000</td>\n",
       "      <td>6.269000</td>\n",
       "    </tr>\n",
       "    <tr>\n",
       "      <th>25%</th>\n",
       "      <td>31.000000</td>\n",
       "      <td>10.445500</td>\n",
       "    </tr>\n",
       "    <tr>\n",
       "      <th>50%</th>\n",
       "      <td>45.000000</td>\n",
       "      <td>13.936500</td>\n",
       "    </tr>\n",
       "    <tr>\n",
       "      <th>75%</th>\n",
       "      <td>58.000000</td>\n",
       "      <td>19.380000</td>\n",
       "    </tr>\n",
       "    <tr>\n",
       "      <th>max</th>\n",
       "      <td>74.000000</td>\n",
       "      <td>38.247000</td>\n",
       "    </tr>\n",
       "  </tbody>\n",
       "</table>\n",
       "</div>"
      ],
      "text/plain": [
       "              Age     Na_to_K\n",
       "count  200.000000  200.000000\n",
       "mean    44.315000   16.084485\n",
       "std     16.544315    7.223956\n",
       "min     15.000000    6.269000\n",
       "25%     31.000000   10.445500\n",
       "50%     45.000000   13.936500\n",
       "75%     58.000000   19.380000\n",
       "max     74.000000   38.247000"
      ]
     },
     "execution_count": 5,
     "metadata": {},
     "output_type": "execute_result"
    }
   ],
   "source": [
    "dataLoad.describe()"
   ]
  },
  {
   "cell_type": "code",
   "execution_count": 6,
   "id": "d2fdd3f1",
   "metadata": {
    "execution": {
     "iopub.execute_input": "2021-08-24T12:38:29.831337Z",
     "iopub.status.busy": "2021-08-24T12:38:29.830536Z",
     "iopub.status.idle": "2021-08-24T12:38:29.835425Z",
     "shell.execute_reply": "2021-08-24T12:38:29.834752Z",
     "shell.execute_reply.started": "2021-08-24T12:04:42.022286Z"
    },
    "papermill": {
     "duration": 0.046888,
     "end_time": "2021-08-24T12:38:29.835570",
     "exception": false,
     "start_time": "2021-08-24T12:38:29.788682",
     "status": "completed"
    },
    "tags": []
   },
   "outputs": [
    {
     "data": {
      "text/plain": [
       "Age            0\n",
       "Sex            0\n",
       "BP             0\n",
       "Cholesterol    0\n",
       "Na_to_K        0\n",
       "Drug           0\n",
       "dtype: int64"
      ]
     },
     "execution_count": 6,
     "metadata": {},
     "output_type": "execute_result"
    }
   ],
   "source": [
    "dataLoad.isnull().sum()"
   ]
  },
  {
   "cell_type": "markdown",
   "id": "69f75ae5",
   "metadata": {
    "papermill": {
     "duration": 0.034317,
     "end_time": "2021-08-24T12:38:29.903907",
     "exception": false,
     "start_time": "2021-08-24T12:38:29.869590",
     "status": "completed"
    },
    "tags": []
   },
   "source": [
    "## Preprocessing"
   ]
  },
  {
   "cell_type": "code",
   "execution_count": 7,
   "id": "83dae43c",
   "metadata": {
    "execution": {
     "iopub.execute_input": "2021-08-24T12:38:29.986886Z",
     "iopub.status.busy": "2021-08-24T12:38:29.985880Z",
     "iopub.status.idle": "2021-08-24T12:38:29.989992Z",
     "shell.execute_reply": "2021-08-24T12:38:29.990450Z",
     "shell.execute_reply.started": "2021-08-24T12:04:43.928701Z"
    },
    "papermill": {
     "duration": 0.052358,
     "end_time": "2021-08-24T12:38:29.990626",
     "exception": false,
     "start_time": "2021-08-24T12:38:29.938268",
     "status": "completed"
    },
    "tags": []
   },
   "outputs": [
    {
     "data": {
      "text/html": [
       "<div>\n",
       "<style scoped>\n",
       "    .dataframe tbody tr th:only-of-type {\n",
       "        vertical-align: middle;\n",
       "    }\n",
       "\n",
       "    .dataframe tbody tr th {\n",
       "        vertical-align: top;\n",
       "    }\n",
       "\n",
       "    .dataframe thead th {\n",
       "        text-align: right;\n",
       "    }\n",
       "</style>\n",
       "<table border=\"1\" class=\"dataframe\">\n",
       "  <thead>\n",
       "    <tr style=\"text-align: right;\">\n",
       "      <th></th>\n",
       "      <th>Age</th>\n",
       "      <th>Sex</th>\n",
       "      <th>BP</th>\n",
       "      <th>Cholesterol</th>\n",
       "      <th>Na_to_K</th>\n",
       "    </tr>\n",
       "  </thead>\n",
       "  <tbody>\n",
       "    <tr>\n",
       "      <th>0</th>\n",
       "      <td>23</td>\n",
       "      <td>F</td>\n",
       "      <td>HIGH</td>\n",
       "      <td>HIGH</td>\n",
       "      <td>25.355</td>\n",
       "    </tr>\n",
       "    <tr>\n",
       "      <th>1</th>\n",
       "      <td>47</td>\n",
       "      <td>M</td>\n",
       "      <td>LOW</td>\n",
       "      <td>HIGH</td>\n",
       "      <td>13.093</td>\n",
       "    </tr>\n",
       "    <tr>\n",
       "      <th>2</th>\n",
       "      <td>47</td>\n",
       "      <td>M</td>\n",
       "      <td>LOW</td>\n",
       "      <td>HIGH</td>\n",
       "      <td>10.114</td>\n",
       "    </tr>\n",
       "    <tr>\n",
       "      <th>3</th>\n",
       "      <td>28</td>\n",
       "      <td>F</td>\n",
       "      <td>NORMAL</td>\n",
       "      <td>HIGH</td>\n",
       "      <td>7.798</td>\n",
       "    </tr>\n",
       "    <tr>\n",
       "      <th>4</th>\n",
       "      <td>61</td>\n",
       "      <td>F</td>\n",
       "      <td>LOW</td>\n",
       "      <td>HIGH</td>\n",
       "      <td>18.043</td>\n",
       "    </tr>\n",
       "  </tbody>\n",
       "</table>\n",
       "</div>"
      ],
      "text/plain": [
       "   Age Sex      BP Cholesterol  Na_to_K\n",
       "0   23   F    HIGH        HIGH   25.355\n",
       "1   47   M     LOW        HIGH   13.093\n",
       "2   47   M     LOW        HIGH   10.114\n",
       "3   28   F  NORMAL        HIGH    7.798\n",
       "4   61   F     LOW        HIGH   18.043"
      ]
     },
     "execution_count": 7,
     "metadata": {},
     "output_type": "execute_result"
    }
   ],
   "source": [
    "dataCopy = dataLoad.copy()\n",
    "target = dataCopy['Drug']\n",
    "features = dataCopy.drop('Drug', axis=1)\n",
    "features.head()"
   ]
  },
  {
   "cell_type": "code",
   "execution_count": 8,
   "id": "14b07726",
   "metadata": {
    "execution": {
     "iopub.execute_input": "2021-08-24T12:38:30.086598Z",
     "iopub.status.busy": "2021-08-24T12:38:30.069932Z",
     "iopub.status.idle": "2021-08-24T12:38:30.091171Z",
     "shell.execute_reply": "2021-08-24T12:38:30.090606Z",
     "shell.execute_reply.started": "2021-08-24T12:04:44.920877Z"
    },
    "papermill": {
     "duration": 0.066416,
     "end_time": "2021-08-24T12:38:30.091327",
     "exception": false,
     "start_time": "2021-08-24T12:38:30.024911",
     "status": "completed"
    },
    "tags": []
   },
   "outputs": [
    {
     "data": {
      "text/html": [
       "<div>\n",
       "<style scoped>\n",
       "    .dataframe tbody tr th:only-of-type {\n",
       "        vertical-align: middle;\n",
       "    }\n",
       "\n",
       "    .dataframe tbody tr th {\n",
       "        vertical-align: top;\n",
       "    }\n",
       "\n",
       "    .dataframe thead th {\n",
       "        text-align: right;\n",
       "    }\n",
       "</style>\n",
       "<table border=\"1\" class=\"dataframe\">\n",
       "  <thead>\n",
       "    <tr style=\"text-align: right;\">\n",
       "      <th></th>\n",
       "      <th>F</th>\n",
       "      <th>M</th>\n",
       "      <th>HIGH</th>\n",
       "      <th>LOW</th>\n",
       "      <th>NORMAL</th>\n",
       "      <th>HIGH</th>\n",
       "      <th>NORMAL</th>\n",
       "    </tr>\n",
       "  </thead>\n",
       "  <tbody>\n",
       "    <tr>\n",
       "      <th>0</th>\n",
       "      <td>1.0</td>\n",
       "      <td>0.0</td>\n",
       "      <td>1.0</td>\n",
       "      <td>0.0</td>\n",
       "      <td>0.0</td>\n",
       "      <td>1.0</td>\n",
       "      <td>0.0</td>\n",
       "    </tr>\n",
       "    <tr>\n",
       "      <th>1</th>\n",
       "      <td>0.0</td>\n",
       "      <td>1.0</td>\n",
       "      <td>0.0</td>\n",
       "      <td>1.0</td>\n",
       "      <td>0.0</td>\n",
       "      <td>1.0</td>\n",
       "      <td>0.0</td>\n",
       "    </tr>\n",
       "    <tr>\n",
       "      <th>2</th>\n",
       "      <td>0.0</td>\n",
       "      <td>1.0</td>\n",
       "      <td>0.0</td>\n",
       "      <td>1.0</td>\n",
       "      <td>0.0</td>\n",
       "      <td>1.0</td>\n",
       "      <td>0.0</td>\n",
       "    </tr>\n",
       "    <tr>\n",
       "      <th>3</th>\n",
       "      <td>1.0</td>\n",
       "      <td>0.0</td>\n",
       "      <td>0.0</td>\n",
       "      <td>0.0</td>\n",
       "      <td>1.0</td>\n",
       "      <td>1.0</td>\n",
       "      <td>0.0</td>\n",
       "    </tr>\n",
       "    <tr>\n",
       "      <th>4</th>\n",
       "      <td>1.0</td>\n",
       "      <td>0.0</td>\n",
       "      <td>0.0</td>\n",
       "      <td>1.0</td>\n",
       "      <td>0.0</td>\n",
       "      <td>1.0</td>\n",
       "      <td>0.0</td>\n",
       "    </tr>\n",
       "  </tbody>\n",
       "</table>\n",
       "</div>"
      ],
      "text/plain": [
       "     F    M  HIGH  LOW  NORMAL  HIGH  NORMAL\n",
       "0  1.0  0.0   1.0  0.0     0.0   1.0     0.0\n",
       "1  0.0  1.0   0.0  1.0     0.0   1.0     0.0\n",
       "2  0.0  1.0   0.0  1.0     0.0   1.0     0.0\n",
       "3  1.0  0.0   0.0  0.0     1.0   1.0     0.0\n",
       "4  1.0  0.0   0.0  1.0     0.0   1.0     0.0"
      ]
     },
     "execution_count": 8,
     "metadata": {},
     "output_type": "execute_result"
    }
   ],
   "source": [
    "OH_cols=[]\n",
    "for i in features.columns:\n",
    "    if features[i].nunique() < 5 :\n",
    "        OH_cols.append(i)\n",
    "        \n",
    "\n",
    "encoder = OneHotEncoder()\n",
    "encodedData = encoder.fit_transform(features[OH_cols]).toarray()\n",
    "encodedLabel = encoder.categories_\n",
    "\n",
    "featLabel = []\n",
    "for j in range(3):\n",
    "    for k in range(len(encodedLabel[j])):\n",
    "        label = encodedLabel[j][k]\n",
    "        featLabel.append(label)\n",
    "\n",
    "encoded_df = pd.DataFrame(encodedData, columns=featLabel)\n",
    "encoded_df.head()"
   ]
  },
  {
   "cell_type": "code",
   "execution_count": 9,
   "id": "7c7209b2",
   "metadata": {
    "execution": {
     "iopub.execute_input": "2021-08-24T12:38:30.181922Z",
     "iopub.status.busy": "2021-08-24T12:38:30.181192Z",
     "iopub.status.idle": "2021-08-24T12:38:30.185369Z",
     "shell.execute_reply": "2021-08-24T12:38:30.185856Z",
     "shell.execute_reply.started": "2021-08-24T12:04:45.711495Z"
    },
    "papermill": {
     "duration": 0.059018,
     "end_time": "2021-08-24T12:38:30.186036",
     "exception": false,
     "start_time": "2021-08-24T12:38:30.127018",
     "status": "completed"
    },
    "tags": []
   },
   "outputs": [
    {
     "data": {
      "text/html": [
       "<div>\n",
       "<style scoped>\n",
       "    .dataframe tbody tr th:only-of-type {\n",
       "        vertical-align: middle;\n",
       "    }\n",
       "\n",
       "    .dataframe tbody tr th {\n",
       "        vertical-align: top;\n",
       "    }\n",
       "\n",
       "    .dataframe thead th {\n",
       "        text-align: right;\n",
       "    }\n",
       "</style>\n",
       "<table border=\"1\" class=\"dataframe\">\n",
       "  <thead>\n",
       "    <tr style=\"text-align: right;\">\n",
       "      <th></th>\n",
       "      <th>Age</th>\n",
       "      <th>Na_to_K</th>\n",
       "      <th>F</th>\n",
       "      <th>M</th>\n",
       "      <th>HIGH</th>\n",
       "      <th>LOW</th>\n",
       "      <th>NORMAL</th>\n",
       "      <th>HIGH</th>\n",
       "      <th>NORMAL</th>\n",
       "    </tr>\n",
       "  </thead>\n",
       "  <tbody>\n",
       "    <tr>\n",
       "      <th>0</th>\n",
       "      <td>23</td>\n",
       "      <td>25.355</td>\n",
       "      <td>1.0</td>\n",
       "      <td>0.0</td>\n",
       "      <td>1.0</td>\n",
       "      <td>0.0</td>\n",
       "      <td>0.0</td>\n",
       "      <td>1.0</td>\n",
       "      <td>0.0</td>\n",
       "    </tr>\n",
       "    <tr>\n",
       "      <th>1</th>\n",
       "      <td>47</td>\n",
       "      <td>13.093</td>\n",
       "      <td>0.0</td>\n",
       "      <td>1.0</td>\n",
       "      <td>0.0</td>\n",
       "      <td>1.0</td>\n",
       "      <td>0.0</td>\n",
       "      <td>1.0</td>\n",
       "      <td>0.0</td>\n",
       "    </tr>\n",
       "    <tr>\n",
       "      <th>2</th>\n",
       "      <td>47</td>\n",
       "      <td>10.114</td>\n",
       "      <td>0.0</td>\n",
       "      <td>1.0</td>\n",
       "      <td>0.0</td>\n",
       "      <td>1.0</td>\n",
       "      <td>0.0</td>\n",
       "      <td>1.0</td>\n",
       "      <td>0.0</td>\n",
       "    </tr>\n",
       "    <tr>\n",
       "      <th>3</th>\n",
       "      <td>28</td>\n",
       "      <td>7.798</td>\n",
       "      <td>1.0</td>\n",
       "      <td>0.0</td>\n",
       "      <td>0.0</td>\n",
       "      <td>0.0</td>\n",
       "      <td>1.0</td>\n",
       "      <td>1.0</td>\n",
       "      <td>0.0</td>\n",
       "    </tr>\n",
       "    <tr>\n",
       "      <th>4</th>\n",
       "      <td>61</td>\n",
       "      <td>18.043</td>\n",
       "      <td>1.0</td>\n",
       "      <td>0.0</td>\n",
       "      <td>0.0</td>\n",
       "      <td>1.0</td>\n",
       "      <td>0.0</td>\n",
       "      <td>1.0</td>\n",
       "      <td>0.0</td>\n",
       "    </tr>\n",
       "  </tbody>\n",
       "</table>\n",
       "</div>"
      ],
      "text/plain": [
       "   Age  Na_to_K    F    M  HIGH  LOW  NORMAL  HIGH  NORMAL\n",
       "0   23   25.355  1.0  0.0   1.0  0.0     0.0   1.0     0.0\n",
       "1   47   13.093  0.0  1.0   0.0  1.0     0.0   1.0     0.0\n",
       "2   47   10.114  0.0  1.0   0.0  1.0     0.0   1.0     0.0\n",
       "3   28    7.798  1.0  0.0   0.0  0.0     1.0   1.0     0.0\n",
       "4   61   18.043  1.0  0.0   0.0  1.0     0.0   1.0     0.0"
      ]
     },
     "execution_count": 9,
     "metadata": {},
     "output_type": "execute_result"
    }
   ],
   "source": [
    "df_features = pd.concat([features['Age'], features['Na_to_K'], encoded_df], axis=1)\n",
    "df_features.head()"
   ]
  },
  {
   "cell_type": "code",
   "execution_count": 10,
   "id": "8bfe9e96",
   "metadata": {
    "execution": {
     "iopub.execute_input": "2021-08-24T12:38:30.266142Z",
     "iopub.status.busy": "2021-08-24T12:38:30.265282Z",
     "iopub.status.idle": "2021-08-24T12:38:30.269809Z",
     "shell.execute_reply": "2021-08-24T12:38:30.269064Z",
     "shell.execute_reply.started": "2021-08-24T12:04:46.526736Z"
    },
    "papermill": {
     "duration": 0.049063,
     "end_time": "2021-08-24T12:38:30.269975",
     "exception": false,
     "start_time": "2021-08-24T12:38:30.220912",
     "status": "completed"
    },
    "tags": []
   },
   "outputs": [
    {
     "data": {
      "text/html": [
       "<div>\n",
       "<style scoped>\n",
       "    .dataframe tbody tr th:only-of-type {\n",
       "        vertical-align: middle;\n",
       "    }\n",
       "\n",
       "    .dataframe tbody tr th {\n",
       "        vertical-align: top;\n",
       "    }\n",
       "\n",
       "    .dataframe thead th {\n",
       "        text-align: right;\n",
       "    }\n",
       "</style>\n",
       "<table border=\"1\" class=\"dataframe\">\n",
       "  <thead>\n",
       "    <tr style=\"text-align: right;\">\n",
       "      <th></th>\n",
       "      <th>Drug</th>\n",
       "    </tr>\n",
       "  </thead>\n",
       "  <tbody>\n",
       "    <tr>\n",
       "      <th>0</th>\n",
       "      <td>0</td>\n",
       "    </tr>\n",
       "    <tr>\n",
       "      <th>1</th>\n",
       "      <td>3</td>\n",
       "    </tr>\n",
       "    <tr>\n",
       "      <th>2</th>\n",
       "      <td>3</td>\n",
       "    </tr>\n",
       "    <tr>\n",
       "      <th>3</th>\n",
       "      <td>4</td>\n",
       "    </tr>\n",
       "    <tr>\n",
       "      <th>4</th>\n",
       "      <td>0</td>\n",
       "    </tr>\n",
       "  </tbody>\n",
       "</table>\n",
       "</div>"
      ],
      "text/plain": [
       "   Drug\n",
       "0     0\n",
       "1     3\n",
       "2     3\n",
       "3     4\n",
       "4     0"
      ]
     },
     "execution_count": 10,
     "metadata": {},
     "output_type": "execute_result"
    }
   ],
   "source": [
    "labelenc = LabelEncoder()\n",
    "targetEncoded = pd.DataFrame(labelenc.fit_transform(target), columns=['Drug'])\n",
    "targetEncoded.head()"
   ]
  },
  {
   "cell_type": "code",
   "execution_count": 11,
   "id": "eae06672",
   "metadata": {
    "execution": {
     "iopub.execute_input": "2021-08-24T12:38:30.351828Z",
     "iopub.status.busy": "2021-08-24T12:38:30.351132Z",
     "iopub.status.idle": "2021-08-24T12:38:30.356035Z",
     "shell.execute_reply": "2021-08-24T12:38:30.355472Z",
     "shell.execute_reply.started": "2021-08-24T12:04:47.320263Z"
    },
    "papermill": {
     "duration": 0.050701,
     "end_time": "2021-08-24T12:38:30.356190",
     "exception": false,
     "start_time": "2021-08-24T12:38:30.305489",
     "status": "completed"
    },
    "tags": []
   },
   "outputs": [
    {
     "name": "stdout",
     "output_type": "stream",
     "text": [
      "(128, 9) (32, 9)\n",
      "(128, 1) (32, 1)\n"
     ]
    }
   ],
   "source": [
    "x_train, x_test, y_train, y_test = train_test_split(df_features, targetEncoded, test_size=0.2)\n",
    "X_train, X_valid, Y_train, Y_valid = train_test_split(x_train, y_train, test_size=0.2)\n",
    "print(X_train.shape , X_valid.shape)\n",
    "print(Y_train.shape, Y_valid.shape)"
   ]
  },
  {
   "cell_type": "code",
   "execution_count": 12,
   "id": "ff1edacf",
   "metadata": {
    "execution": {
     "iopub.execute_input": "2021-08-24T12:38:30.442587Z",
     "iopub.status.busy": "2021-08-24T12:38:30.441809Z",
     "iopub.status.idle": "2021-08-24T12:38:30.445376Z",
     "shell.execute_reply": "2021-08-24T12:38:30.444839Z",
     "shell.execute_reply.started": "2021-08-24T12:04:48.148736Z"
    },
    "papermill": {
     "duration": 0.053521,
     "end_time": "2021-08-24T12:38:30.445512",
     "exception": false,
     "start_time": "2021-08-24T12:38:30.391991",
     "status": "completed"
    },
    "tags": []
   },
   "outputs": [
    {
     "data": {
      "text/plain": [
       "((128, 9), (32, 9))"
      ]
     },
     "execution_count": 12,
     "metadata": {},
     "output_type": "execute_result"
    }
   ],
   "source": [
    "scaler= MinMaxScaler()\n",
    "X_train = scaler.fit_transform(X_train)\n",
    "X_valid = scaler.fit_transform(X_valid)\n",
    "\n",
    "X_train.shape , X_valid.shape"
   ]
  },
  {
   "cell_type": "markdown",
   "id": "a6e6199a",
   "metadata": {
    "papermill": {
     "duration": 0.036665,
     "end_time": "2021-08-24T12:38:30.519762",
     "exception": false,
     "start_time": "2021-08-24T12:38:30.483097",
     "status": "completed"
    },
    "tags": []
   },
   "source": [
    "## Baseline Model"
   ]
  },
  {
   "cell_type": "code",
   "execution_count": 13,
   "id": "ace99cc5",
   "metadata": {
    "execution": {
     "iopub.execute_input": "2021-08-24T12:38:30.596848Z",
     "iopub.status.busy": "2021-08-24T12:38:30.596200Z",
     "iopub.status.idle": "2021-08-24T12:38:30.607583Z",
     "shell.execute_reply": "2021-08-24T12:38:30.607024Z",
     "shell.execute_reply.started": "2021-08-24T12:04:50.024101Z"
    },
    "papermill": {
     "duration": 0.051278,
     "end_time": "2021-08-24T12:38:30.607719",
     "exception": false,
     "start_time": "2021-08-24T12:38:30.556441",
     "status": "completed"
    },
    "tags": []
   },
   "outputs": [
    {
     "name": "stdout",
     "output_type": "stream",
     "text": [
      "0.6875\n"
     ]
    }
   ],
   "source": [
    "modelBl= KNeighborsClassifier()\n",
    "modelBl.fit(X_train, Y_train.values.ravel())\n",
    "predBl = modelBl.predict(X_valid)\n",
    "print(accuracy_score(Y_valid.values.ravel(), predBl))"
   ]
  },
  {
   "cell_type": "code",
   "execution_count": 14,
   "id": "6673be05",
   "metadata": {
    "execution": {
     "iopub.execute_input": "2021-08-24T12:38:30.685412Z",
     "iopub.status.busy": "2021-08-24T12:38:30.684770Z",
     "iopub.status.idle": "2021-08-24T12:38:30.695075Z",
     "shell.execute_reply": "2021-08-24T12:38:30.695560Z",
     "shell.execute_reply.started": "2021-08-24T12:04:50.909737Z"
    },
    "papermill": {
     "duration": 0.051988,
     "end_time": "2021-08-24T12:38:30.695726",
     "exception": false,
     "start_time": "2021-08-24T12:38:30.643738",
     "status": "completed"
    },
    "tags": []
   },
   "outputs": [
    {
     "name": "stdout",
     "output_type": "stream",
     "text": [
      "              precision    recall  f1-score   support\n",
      "\n",
      "           0       0.62      0.62      0.62        13\n",
      "           1       0.50      1.00      0.67         3\n",
      "           2       0.00      0.00      0.00         0\n",
      "           3       1.00      0.50      0.67         4\n",
      "           4       0.90      0.75      0.82        12\n",
      "\n",
      "    accuracy                           0.69        32\n",
      "   macro avg       0.60      0.57      0.55        32\n",
      "weighted avg       0.76      0.69      0.70        32\n",
      "\n"
     ]
    },
    {
     "name": "stderr",
     "output_type": "stream",
     "text": [
      "/opt/conda/lib/python3.7/site-packages/sklearn/metrics/_classification.py:1221: UndefinedMetricWarning: Recall and F-score are ill-defined and being set to 0.0 in labels with no true samples. Use `zero_division` parameter to control this behavior.\n",
      "  _warn_prf(average, modifier, msg_start, len(result))\n"
     ]
    }
   ],
   "source": [
    "print(classification_report(Y_valid.values.ravel(), predBl))"
   ]
  },
  {
   "cell_type": "code",
   "execution_count": 15,
   "id": "eac383b7",
   "metadata": {
    "execution": {
     "iopub.execute_input": "2021-08-24T12:38:30.793926Z",
     "iopub.status.busy": "2021-08-24T12:38:30.793267Z",
     "iopub.status.idle": "2021-08-24T12:38:31.093911Z",
     "shell.execute_reply": "2021-08-24T12:38:31.094391Z",
     "shell.execute_reply.started": "2021-08-24T12:04:51.814642Z"
    },
    "papermill": {
     "duration": 0.36224,
     "end_time": "2021-08-24T12:38:31.094567",
     "exception": false,
     "start_time": "2021-08-24T12:38:30.732327",
     "status": "completed"
    },
    "tags": []
   },
   "outputs": [
    {
     "data": {
      "text/plain": [
       "<sklearn.metrics._plot.confusion_matrix.ConfusionMatrixDisplay at 0x7f878e606810>"
      ]
     },
     "execution_count": 15,
     "metadata": {},
     "output_type": "execute_result"
    },
    {
     "data": {
      "image/png": "[encoded data removed]",
      "text/plain": [
       "<Figure size 432x288 with 2 Axes>"
      ]
     },
     "metadata": {
      "needs_background": "light"
     },
     "output_type": "display_data"
    }
   ],
   "source": [
    "cmBl = confusion_matrix(Y_valid.values.ravel(), predBl)\n",
    "ConfusionMatrixDisplay(cmBl).plot()"
   ]
  },
  {
   "cell_type": "code",
   "execution_count": 16,
   "id": "c595ccd0",
   "metadata": {
    "execution": {
     "iopub.execute_input": "2021-08-24T12:38:31.179517Z",
     "iopub.status.busy": "2021-08-24T12:38:31.178743Z",
     "iopub.status.idle": "2021-08-24T12:38:31.183593Z",
     "shell.execute_reply": "2021-08-24T12:38:31.182843Z",
     "shell.execute_reply.started": "2021-08-24T12:04:52.789906Z"
    },
    "papermill": {
     "duration": 0.051807,
     "end_time": "2021-08-24T12:38:31.183756",
     "exception": false,
     "start_time": "2021-08-24T12:38:31.131949",
     "status": "completed"
    },
    "tags": []
   },
   "outputs": [
    {
     "data": {
      "text/plain": [
       "Drug\n",
       "0       13\n",
       "4       12\n",
       "3        4\n",
       "1        3\n",
       "dtype: int64"
      ]
     },
     "execution_count": 16,
     "metadata": {},
     "output_type": "execute_result"
    }
   ],
   "source": [
    "Y_valid.value_counts()"
   ]
  },
  {
   "cell_type": "markdown",
   "id": "b6e4c300",
   "metadata": {
    "papermill": {
     "duration": 0.038112,
     "end_time": "2021-08-24T12:38:31.260065",
     "exception": false,
     "start_time": "2021-08-24T12:38:31.221953",
     "status": "completed"
    },
    "tags": []
   },
   "source": [
    "## Exploratory Data Analysis"
   ]
  },
  {
   "cell_type": "code",
   "execution_count": 17,
   "id": "6d955f82",
   "metadata": {
    "execution": {
     "iopub.execute_input": "2021-08-24T12:38:31.373223Z",
     "iopub.status.busy": "2021-08-24T12:38:31.354317Z",
     "iopub.status.idle": "2021-08-24T12:38:31.490517Z",
     "shell.execute_reply": "2021-08-24T12:38:31.489967Z",
     "shell.execute_reply.started": "2021-08-24T12:04:54.597852Z"
    },
    "papermill": {
     "duration": 0.192905,
     "end_time": "2021-08-24T12:38:31.490652",
     "exception": false,
     "start_time": "2021-08-24T12:38:31.297747",
     "status": "completed"
    },
    "tags": []
   },
   "outputs": [
    {
     "data": {
      "text/plain": [
       "<AxesSubplot:ylabel='Drug'>"
      ]
     },
     "execution_count": 17,
     "metadata": {},
     "output_type": "execute_result"
    },
    {
     "data": {
      "image/png": "[encoded data removed]",
      "text/plain": [
       "<Figure size 432x288 with 1 Axes>"
      ]
     },
     "metadata": {
      "needs_background": "light"
     },
     "output_type": "display_data"
    }
   ],
   "source": [
    "drug = target.value_counts()\n",
    "sns.barplot(y=drug, x=drug.index)"
   ]
  },
  {
   "cell_type": "code",
   "execution_count": 18,
   "id": "fd6a7eda",
   "metadata": {
    "execution": {
     "iopub.execute_input": "2021-08-24T12:38:31.592906Z",
     "iopub.status.busy": "2021-08-24T12:38:31.591777Z",
     "iopub.status.idle": "2021-08-24T12:38:31.897302Z",
     "shell.execute_reply": "2021-08-24T12:38:31.896626Z",
     "shell.execute_reply.started": "2021-08-24T12:04:55.549710Z"
    },
    "papermill": {
     "duration": 0.367032,
     "end_time": "2021-08-24T12:38:31.897441",
     "exception": false,
     "start_time": "2021-08-24T12:38:31.530409",
     "status": "completed"
    },
    "tags": []
   },
   "outputs": [
    {
     "data": {
      "image/png": "[encoded data removed]",
      "text/plain": [
       "<Figure size 432x288 with 1 Axes>"
      ]
     },
     "metadata": {
      "needs_background": "light"
     },
     "output_type": "display_data"
    },
    {
     "data": {
      "image/png": "[encoded data removed]",
      "text/plain": [
       "<Figure size 432x288 with 1 Axes>"
      ]
     },
     "metadata": {
      "needs_background": "light"
     },
     "output_type": "display_data"
    }
   ],
   "source": [
    "cols = ['Age', 'Na_to_K']\n",
    "\n",
    "for col in cols:\n",
    "    sns.boxplot(y = col, data=dataCopy)\n",
    "    plt.show()"
   ]
  },
  {
   "cell_type": "code",
   "execution_count": 19,
   "id": "ad8d4226",
   "metadata": {
    "execution": {
     "iopub.execute_input": "2021-08-24T12:38:32.015461Z",
     "iopub.status.busy": "2021-08-24T12:38:31.989097Z",
     "iopub.status.idle": "2021-08-24T12:38:32.395427Z",
     "shell.execute_reply": "2021-08-24T12:38:32.394723Z",
     "shell.execute_reply.started": "2021-08-24T12:04:56.486734Z"
    },
    "papermill": {
     "duration": 0.457243,
     "end_time": "2021-08-24T12:38:32.395583",
     "exception": false,
     "start_time": "2021-08-24T12:38:31.938340",
     "status": "completed"
    },
    "tags": []
   },
   "outputs": [
    {
     "data": {
      "image/png": "[encoded data removed]",
      "text/plain": [
       "<Figure size 432x288 with 1 Axes>"
      ]
     },
     "metadata": {
      "needs_background": "light"
     },
     "output_type": "display_data"
    },
    {
     "data": {
      "image/png": "[encoded data removed]",
      "text/plain": [
       "<Figure size 432x288 with 1 Axes>"
      ]
     },
     "metadata": {
      "needs_background": "light"
     },
     "output_type": "display_data"
    }
   ],
   "source": [
    "for u in cols:\n",
    "    sns.boxplot(x = 'Drug', y = u, data=dataCopy)\n",
    "    plt.show()"
   ]
  },
  {
   "cell_type": "markdown",
   "id": "a6386e86",
   "metadata": {
    "papermill": {
     "duration": 0.04166,
     "end_time": "2021-08-24T12:38:32.479944",
     "exception": false,
     "start_time": "2021-08-24T12:38:32.438284",
     "status": "completed"
    },
    "tags": []
   },
   "source": [
    "## Removing Outliers"
   ]
  },
  {
   "cell_type": "markdown",
   "id": "25df8050",
   "metadata": {
    "papermill": {
     "duration": 0.041806,
     "end_time": "2021-08-24T12:38:32.565302",
     "exception": false,
     "start_time": "2021-08-24T12:38:32.523496",
     "status": "completed"
    },
    "tags": []
   },
   "source": [
    "The next step we remove an outliers from the data. It because KNN model is very sensitive with outliers."
   ]
  },
  {
   "cell_type": "code",
   "execution_count": 20,
   "id": "36930092",
   "metadata": {
    "execution": {
     "iopub.execute_input": "2021-08-24T12:38:32.674021Z",
     "iopub.status.busy": "2021-08-24T12:38:32.661391Z",
     "iopub.status.idle": "2021-08-24T12:38:32.679969Z",
     "shell.execute_reply": "2021-08-24T12:38:32.680678Z",
     "shell.execute_reply.started": "2021-08-24T12:04:58.581418Z"
    },
    "papermill": {
     "duration": 0.073098,
     "end_time": "2021-08-24T12:38:32.680969",
     "exception": false,
     "start_time": "2021-08-24T12:38:32.607871",
     "status": "completed"
    },
    "tags": []
   },
   "outputs": [
    {
     "name": "stderr",
     "output_type": "stream",
     "text": [
      "/opt/conda/lib/python3.7/site-packages/ipykernel_launcher.py:10: SettingWithCopyWarning: \n",
      "A value is trying to be set on a copy of a slice from a DataFrame\n",
      "\n",
      "See the caveats in the documentation: https://pandas.pydata.org/pandas-docs/stable/user_guide/indexing.html#returning-a-view-versus-a-copy\n",
      "  # Remove the CWD from sys.path while we load stuff.\n"
     ]
    },
    {
     "data": {
      "text/plain": [
       "8"
      ]
     },
     "execution_count": 20,
     "metadata": {},
     "output_type": "execute_result"
    }
   ],
   "source": [
    "## removing outliers on Na_to_K variable\n",
    "\n",
    "Q1 = dataCopy['Na_to_K'].quantile(0.25)\n",
    "Q3 = dataCopy['Na_to_K'].quantile(0.75)\n",
    "\n",
    "IQR = Q3 - Q1\n",
    "\n",
    "for i in range(len(dataCopy['Na_to_K'])):\n",
    "    if dataCopy['Na_to_K'][i] < (Q1-IQR*1.5) or dataCopy['Na_to_K'][i] > (Q3 + IQR*1.5):\n",
    "        dataCopy['Na_to_K'][i] = np.nan\n",
    "    else:\n",
    "        continue\n",
    "\n",
    "dataCopy['Na_to_K'].isnull().sum()"
   ]
  },
  {
   "cell_type": "code",
   "execution_count": 21,
   "id": "a17cac97",
   "metadata": {
    "execution": {
     "iopub.execute_input": "2021-08-24T12:38:32.783745Z",
     "iopub.status.busy": "2021-08-24T12:38:32.782726Z",
     "iopub.status.idle": "2021-08-24T12:38:32.787361Z",
     "shell.execute_reply": "2021-08-24T12:38:32.786711Z",
     "shell.execute_reply.started": "2021-08-24T12:05:00.501764Z"
    },
    "papermill": {
     "duration": 0.062418,
     "end_time": "2021-08-24T12:38:32.787512",
     "exception": false,
     "start_time": "2021-08-24T12:38:32.725094",
     "status": "completed"
    },
    "tags": []
   },
   "outputs": [
    {
     "data": {
      "text/plain": [
       "Na_to_K    0\n",
       "dtype: int64"
      ]
     },
     "execution_count": 21,
     "metadata": {},
     "output_type": "execute_result"
    }
   ],
   "source": [
    "## Imputing nan value with mean\n",
    "imputer = SimpleImputer(strategy='mean')\n",
    "\n",
    "naClean = pd.DataFrame(imputer.fit_transform(dataCopy[['Na_to_K']]), columns=['Na_to_K'])\n",
    "naClean.isnull().sum()"
   ]
  },
  {
   "cell_type": "code",
   "execution_count": 22,
   "id": "82a94ae3",
   "metadata": {
    "execution": {
     "iopub.execute_input": "2021-08-24T12:38:32.897477Z",
     "iopub.status.busy": "2021-08-24T12:38:32.896539Z",
     "iopub.status.idle": "2021-08-24T12:38:32.902043Z",
     "shell.execute_reply": "2021-08-24T12:38:32.902627Z",
     "shell.execute_reply.started": "2021-08-24T12:05:01.505889Z"
    },
    "papermill": {
     "duration": 0.070594,
     "end_time": "2021-08-24T12:38:32.902866",
     "exception": false,
     "start_time": "2021-08-24T12:38:32.832272",
     "status": "completed"
    },
    "tags": []
   },
   "outputs": [
    {
     "data": {
      "text/html": [
       "<div>\n",
       "<style scoped>\n",
       "    .dataframe tbody tr th:only-of-type {\n",
       "        vertical-align: middle;\n",
       "    }\n",
       "\n",
       "    .dataframe tbody tr th {\n",
       "        vertical-align: top;\n",
       "    }\n",
       "\n",
       "    .dataframe thead th {\n",
       "        text-align: right;\n",
       "    }\n",
       "</style>\n",
       "<table border=\"1\" class=\"dataframe\">\n",
       "  <thead>\n",
       "    <tr style=\"text-align: right;\">\n",
       "      <th></th>\n",
       "      <th>Age</th>\n",
       "      <th>F</th>\n",
       "      <th>M</th>\n",
       "      <th>HIGH</th>\n",
       "      <th>LOW</th>\n",
       "      <th>NORMAL</th>\n",
       "      <th>HIGH</th>\n",
       "      <th>NORMAL</th>\n",
       "    </tr>\n",
       "  </thead>\n",
       "  <tbody>\n",
       "    <tr>\n",
       "      <th>0</th>\n",
       "      <td>23</td>\n",
       "      <td>1.0</td>\n",
       "      <td>0.0</td>\n",
       "      <td>1.0</td>\n",
       "      <td>0.0</td>\n",
       "      <td>0.0</td>\n",
       "      <td>1.0</td>\n",
       "      <td>0.0</td>\n",
       "    </tr>\n",
       "    <tr>\n",
       "      <th>1</th>\n",
       "      <td>47</td>\n",
       "      <td>0.0</td>\n",
       "      <td>1.0</td>\n",
       "      <td>0.0</td>\n",
       "      <td>1.0</td>\n",
       "      <td>0.0</td>\n",
       "      <td>1.0</td>\n",
       "      <td>0.0</td>\n",
       "    </tr>\n",
       "    <tr>\n",
       "      <th>2</th>\n",
       "      <td>47</td>\n",
       "      <td>0.0</td>\n",
       "      <td>1.0</td>\n",
       "      <td>0.0</td>\n",
       "      <td>1.0</td>\n",
       "      <td>0.0</td>\n",
       "      <td>1.0</td>\n",
       "      <td>0.0</td>\n",
       "    </tr>\n",
       "    <tr>\n",
       "      <th>3</th>\n",
       "      <td>28</td>\n",
       "      <td>1.0</td>\n",
       "      <td>0.0</td>\n",
       "      <td>0.0</td>\n",
       "      <td>0.0</td>\n",
       "      <td>1.0</td>\n",
       "      <td>1.0</td>\n",
       "      <td>0.0</td>\n",
       "    </tr>\n",
       "    <tr>\n",
       "      <th>4</th>\n",
       "      <td>61</td>\n",
       "      <td>1.0</td>\n",
       "      <td>0.0</td>\n",
       "      <td>0.0</td>\n",
       "      <td>1.0</td>\n",
       "      <td>0.0</td>\n",
       "      <td>1.0</td>\n",
       "      <td>0.0</td>\n",
       "    </tr>\n",
       "  </tbody>\n",
       "</table>\n",
       "</div>"
      ],
      "text/plain": [
       "   Age    F    M  HIGH  LOW  NORMAL  HIGH  NORMAL\n",
       "0   23  1.0  0.0   1.0  0.0     0.0   1.0     0.0\n",
       "1   47  0.0  1.0   0.0  1.0     0.0   1.0     0.0\n",
       "2   47  0.0  1.0   0.0  1.0     0.0   1.0     0.0\n",
       "3   28  1.0  0.0   0.0  0.0     1.0   1.0     0.0\n",
       "4   61  1.0  0.0   0.0  1.0     0.0   1.0     0.0"
      ]
     },
     "execution_count": 22,
     "metadata": {},
     "output_type": "execute_result"
    }
   ],
   "source": [
    "df_feature= df_features.drop('Na_to_K', axis=1)\n",
    "df_feature.head()"
   ]
  },
  {
   "cell_type": "code",
   "execution_count": 23,
   "id": "12471a7b",
   "metadata": {
    "execution": {
     "iopub.execute_input": "2021-08-24T12:38:33.014567Z",
     "iopub.status.busy": "2021-08-24T12:38:33.013434Z",
     "iopub.status.idle": "2021-08-24T12:38:33.019681Z",
     "shell.execute_reply": "2021-08-24T12:38:33.019052Z",
     "shell.execute_reply.started": "2021-08-24T12:05:02.305821Z"
    },
    "papermill": {
     "duration": 0.071569,
     "end_time": "2021-08-24T12:38:33.019856",
     "exception": false,
     "start_time": "2021-08-24T12:38:32.948287",
     "status": "completed"
    },
    "tags": []
   },
   "outputs": [
    {
     "data": {
      "text/html": [
       "<div>\n",
       "<style scoped>\n",
       "    .dataframe tbody tr th:only-of-type {\n",
       "        vertical-align: middle;\n",
       "    }\n",
       "\n",
       "    .dataframe tbody tr th {\n",
       "        vertical-align: top;\n",
       "    }\n",
       "\n",
       "    .dataframe thead th {\n",
       "        text-align: right;\n",
       "    }\n",
       "</style>\n",
       "<table border=\"1\" class=\"dataframe\">\n",
       "  <thead>\n",
       "    <tr style=\"text-align: right;\">\n",
       "      <th></th>\n",
       "      <th>Age</th>\n",
       "      <th>F</th>\n",
       "      <th>M</th>\n",
       "      <th>HIGH</th>\n",
       "      <th>LOW</th>\n",
       "      <th>NORMAL</th>\n",
       "      <th>HIGH</th>\n",
       "      <th>NORMAL</th>\n",
       "      <th>Na_to_K</th>\n",
       "    </tr>\n",
       "  </thead>\n",
       "  <tbody>\n",
       "    <tr>\n",
       "      <th>0</th>\n",
       "      <td>23</td>\n",
       "      <td>1.0</td>\n",
       "      <td>0.0</td>\n",
       "      <td>1.0</td>\n",
       "      <td>0.0</td>\n",
       "      <td>0.0</td>\n",
       "      <td>1.0</td>\n",
       "      <td>0.0</td>\n",
       "      <td>25.355</td>\n",
       "    </tr>\n",
       "    <tr>\n",
       "      <th>1</th>\n",
       "      <td>47</td>\n",
       "      <td>0.0</td>\n",
       "      <td>1.0</td>\n",
       "      <td>0.0</td>\n",
       "      <td>1.0</td>\n",
       "      <td>0.0</td>\n",
       "      <td>1.0</td>\n",
       "      <td>0.0</td>\n",
       "      <td>13.093</td>\n",
       "    </tr>\n",
       "    <tr>\n",
       "      <th>2</th>\n",
       "      <td>47</td>\n",
       "      <td>0.0</td>\n",
       "      <td>1.0</td>\n",
       "      <td>0.0</td>\n",
       "      <td>1.0</td>\n",
       "      <td>0.0</td>\n",
       "      <td>1.0</td>\n",
       "      <td>0.0</td>\n",
       "      <td>10.114</td>\n",
       "    </tr>\n",
       "    <tr>\n",
       "      <th>3</th>\n",
       "      <td>28</td>\n",
       "      <td>1.0</td>\n",
       "      <td>0.0</td>\n",
       "      <td>0.0</td>\n",
       "      <td>0.0</td>\n",
       "      <td>1.0</td>\n",
       "      <td>1.0</td>\n",
       "      <td>0.0</td>\n",
       "      <td>7.798</td>\n",
       "    </tr>\n",
       "    <tr>\n",
       "      <th>4</th>\n",
       "      <td>61</td>\n",
       "      <td>1.0</td>\n",
       "      <td>0.0</td>\n",
       "      <td>0.0</td>\n",
       "      <td>1.0</td>\n",
       "      <td>0.0</td>\n",
       "      <td>1.0</td>\n",
       "      <td>0.0</td>\n",
       "      <td>18.043</td>\n",
       "    </tr>\n",
       "  </tbody>\n",
       "</table>\n",
       "</div>"
      ],
      "text/plain": [
       "   Age    F    M  HIGH  LOW  NORMAL  HIGH  NORMAL  Na_to_K\n",
       "0   23  1.0  0.0   1.0  0.0     0.0   1.0     0.0   25.355\n",
       "1   47  0.0  1.0   0.0  1.0     0.0   1.0     0.0   13.093\n",
       "2   47  0.0  1.0   0.0  1.0     0.0   1.0     0.0   10.114\n",
       "3   28  1.0  0.0   0.0  0.0     1.0   1.0     0.0    7.798\n",
       "4   61  1.0  0.0   0.0  1.0     0.0   1.0     0.0   18.043"
      ]
     },
     "execution_count": 23,
     "metadata": {},
     "output_type": "execute_result"
    }
   ],
   "source": [
    "naClean.index = df_feature.index\n",
    "\n",
    "df_Feature =pd.concat([df_feature, naClean], axis=1)\n",
    "df_Feature.head()"
   ]
  },
  {
   "cell_type": "code",
   "execution_count": 24,
   "id": "044d36ee",
   "metadata": {
    "execution": {
     "iopub.execute_input": "2021-08-24T12:38:33.120750Z",
     "iopub.status.busy": "2021-08-24T12:38:33.119707Z",
     "iopub.status.idle": "2021-08-24T12:38:33.124233Z",
     "shell.execute_reply": "2021-08-24T12:38:33.123388Z",
     "shell.execute_reply.started": "2021-08-24T12:05:03.270466Z"
    },
    "papermill": {
     "duration": 0.059893,
     "end_time": "2021-08-24T12:38:33.124461",
     "exception": false,
     "start_time": "2021-08-24T12:38:33.064568",
     "status": "completed"
    },
    "tags": []
   },
   "outputs": [
    {
     "name": "stdout",
     "output_type": "stream",
     "text": [
      "(128, 9) (32, 9)\n",
      "(128, 1) (32, 1)\n"
     ]
    }
   ],
   "source": [
    "x_train, x_test, y_train, y_test = train_test_split(df_Feature, targetEncoded, test_size=0.2)\n",
    "X_train, X_valid, Y_train, Y_valid = train_test_split(x_train, y_train, test_size=0.2)\n",
    "print(X_train.shape , X_valid.shape)\n",
    "print(Y_train.shape, Y_valid.shape)"
   ]
  },
  {
   "cell_type": "code",
   "execution_count": 25,
   "id": "ffdbba03",
   "metadata": {
    "execution": {
     "iopub.execute_input": "2021-08-24T12:38:33.233392Z",
     "iopub.status.busy": "2021-08-24T12:38:33.232470Z",
     "iopub.status.idle": "2021-08-24T12:38:33.237969Z",
     "shell.execute_reply": "2021-08-24T12:38:33.237385Z",
     "shell.execute_reply.started": "2021-08-24T12:05:04.438440Z"
    },
    "papermill": {
     "duration": 0.0673,
     "end_time": "2021-08-24T12:38:33.238135",
     "exception": false,
     "start_time": "2021-08-24T12:38:33.170835",
     "status": "completed"
    },
    "tags": []
   },
   "outputs": [
    {
     "data": {
      "text/plain": [
       "((128, 9), (32, 9))"
      ]
     },
     "execution_count": 25,
     "metadata": {},
     "output_type": "execute_result"
    }
   ],
   "source": [
    "scaler= MinMaxScaler()\n",
    "X_train = scaler.fit_transform(X_train)\n",
    "X_valid = scaler.fit_transform(X_valid)\n",
    "\n",
    "X_train.shape , X_valid.shape"
   ]
  },
  {
   "cell_type": "markdown",
   "id": "31fd5b5f",
   "metadata": {
    "papermill": {
     "duration": 0.044828,
     "end_time": "2021-08-24T12:38:33.328049",
     "exception": false,
     "start_time": "2021-08-24T12:38:33.283221",
     "status": "completed"
    },
    "tags": []
   },
   "source": [
    "## Model Optimization"
   ]
  },
  {
   "cell_type": "markdown",
   "id": "d19eccd2",
   "metadata": {
    "papermill": {
     "duration": 0.044564,
     "end_time": "2021-08-24T12:38:33.417346",
     "exception": false,
     "start_time": "2021-08-24T12:38:33.372782",
     "status": "completed"
    },
    "tags": []
   },
   "source": [
    "Then, we are trying to get optimum parameter for our KNN model. In this case I will try to search the most optimum k number. I did it with gridcv method"
   ]
  },
  {
   "cell_type": "code",
   "execution_count": 26,
   "id": "b2916f02",
   "metadata": {
    "execution": {
     "iopub.execute_input": "2021-08-24T12:38:33.519100Z",
     "iopub.status.busy": "2021-08-24T12:38:33.518030Z",
     "iopub.status.idle": "2021-08-24T12:38:33.584340Z",
     "shell.execute_reply": "2021-08-24T12:38:33.585010Z",
     "shell.execute_reply.started": "2021-08-24T12:05:07.507259Z"
    },
    "papermill": {
     "duration": 0.123261,
     "end_time": "2021-08-24T12:38:33.585253",
     "exception": false,
     "start_time": "2021-08-24T12:38:33.461992",
     "status": "completed"
    },
    "tags": []
   },
   "outputs": [
    {
     "name": "stdout",
     "output_type": "stream",
     "text": [
      "0.7581538461538461\n",
      "{'n_neighbors': 3}\n"
     ]
    }
   ],
   "source": [
    "params ={'n_neighbors':[3, 5, 7, 9]}\n",
    "\n",
    "model = KNeighborsClassifier()\n",
    "knnGrid = GridSearchCV(model, params, cv=5)\n",
    "\n",
    "knnGrid.fit(X_train, Y_train.values.ravel())\n",
    "\n",
    "print(knnGrid.best_score_)\n",
    "print(knnGrid.best_params_)"
   ]
  },
  {
   "cell_type": "code",
   "execution_count": 27,
   "id": "864638d4",
   "metadata": {
    "execution": {
     "iopub.execute_input": "2021-08-24T12:38:33.687767Z",
     "iopub.status.busy": "2021-08-24T12:38:33.686572Z",
     "iopub.status.idle": "2021-08-24T12:38:33.693116Z",
     "shell.execute_reply": "2021-08-24T12:38:33.693876Z",
     "shell.execute_reply.started": "2021-08-24T12:07:58.626272Z"
    },
    "papermill": {
     "duration": 0.063212,
     "end_time": "2021-08-24T12:38:33.694136",
     "exception": false,
     "start_time": "2021-08-24T12:38:33.630924",
     "status": "completed"
    },
    "tags": []
   },
   "outputs": [
    {
     "name": "stdout",
     "output_type": "stream",
     "text": [
      "0.75\n"
     ]
    }
   ],
   "source": [
    "optmodel = KNeighborsClassifier(n_neighbors=3)\n",
    "optmodel.fit(X_train, Y_train.values.ravel())\n",
    "optpred = optmodel.predict(X_valid)\n",
    "print(accuracy_score(Y_valid.values.ravel(), optpred))"
   ]
  },
  {
   "cell_type": "code",
   "execution_count": 28,
   "id": "66443f43",
   "metadata": {
    "execution": {
     "iopub.execute_input": "2021-08-24T12:38:33.794712Z",
     "iopub.status.busy": "2021-08-24T12:38:33.793466Z",
     "iopub.status.idle": "2021-08-24T12:38:33.803915Z",
     "shell.execute_reply": "2021-08-24T12:38:33.802559Z",
     "shell.execute_reply.started": "2021-08-24T12:08:37.670855Z"
    },
    "papermill": {
     "duration": 0.063558,
     "end_time": "2021-08-24T12:38:33.804146",
     "exception": false,
     "start_time": "2021-08-24T12:38:33.740588",
     "status": "completed"
    },
    "tags": []
   },
   "outputs": [
    {
     "name": "stdout",
     "output_type": "stream",
     "text": [
      "              precision    recall  f1-score   support\n",
      "\n",
      "           0       0.75      0.86      0.80        14\n",
      "           1       0.75      0.75      0.75         4\n",
      "           2       0.75      0.75      0.75         4\n",
      "           3       1.00      0.50      0.67         4\n",
      "           4       0.67      0.67      0.67         6\n",
      "\n",
      "    accuracy                           0.75        32\n",
      "   macro avg       0.78      0.70      0.73        32\n",
      "weighted avg       0.77      0.75      0.75        32\n",
      "\n"
     ]
    }
   ],
   "source": [
    "print(classification_report(Y_valid.values.ravel(), optpred))"
   ]
  },
  {
   "cell_type": "code",
   "execution_count": 29,
   "id": "95e64337",
   "metadata": {
    "execution": {
     "iopub.execute_input": "2021-08-24T12:38:33.921906Z",
     "iopub.status.busy": "2021-08-24T12:38:33.920809Z",
     "iopub.status.idle": "2021-08-24T12:38:34.176970Z",
     "shell.execute_reply": "2021-08-24T12:38:34.176307Z",
     "shell.execute_reply.started": "2021-08-24T12:10:14.564671Z"
    },
    "papermill": {
     "duration": 0.326105,
     "end_time": "2021-08-24T12:38:34.177134",
     "exception": false,
     "start_time": "2021-08-24T12:38:33.851029",
     "status": "completed"
    },
    "tags": []
   },
   "outputs": [
    {
     "data": {
      "image/png": "[encoded data removed]",
      "text/plain": [
       "<Figure size 432x288 with 2 Axes>"
      ]
     },
     "metadata": {
      "needs_background": "light"
     },
     "output_type": "display_data"
    }
   ],
   "source": [
    "cmopt = confusion_matrix(Y_valid.values.ravel(), optpred)\n",
    "cmviz = ConfusionMatrixDisplay(cmopt).plot()"
   ]
  },
  {
   "cell_type": "markdown",
   "id": "fa11001d",
   "metadata": {
    "papermill": {
     "duration": 0.0457,
     "end_time": "2021-08-24T12:38:34.269281",
     "exception": false,
     "start_time": "2021-08-24T12:38:34.223581",
     "status": "completed"
    },
    "tags": []
   },
   "source": [
    "## Making pipeline"
   ]
  },
  {
   "cell_type": "code",
   "execution_count": 30,
   "id": "7f4e7607",
   "metadata": {
    "execution": {
     "iopub.execute_input": "2021-08-24T12:38:34.376725Z",
     "iopub.status.busy": "2021-08-24T12:38:34.375689Z",
     "iopub.status.idle": "2021-08-24T12:38:34.384219Z",
     "shell.execute_reply": "2021-08-24T12:38:34.383647Z",
     "shell.execute_reply.started": "2021-08-24T12:25:48.210117Z"
    },
    "papermill": {
     "duration": 0.068757,
     "end_time": "2021-08-24T12:38:34.384358",
     "exception": false,
     "start_time": "2021-08-24T12:38:34.315601",
     "status": "completed"
    },
    "tags": []
   },
   "outputs": [
    {
     "name": "stdout",
     "output_type": "stream",
     "text": [
      "0.75\n"
     ]
    }
   ],
   "source": [
    "my_pipeline = Pipeline(steps=[('scaler', MinMaxScaler()), ('model', optmodel)])\n",
    "\n",
    "my_pipeline.fit(x_train, y_train.values.ravel())\n",
    "pred = my_pipeline.predict(x_test)\n",
    "\n",
    "print(accuracy_score(y_test.values.ravel(), pred))"
   ]
  },
  {
   "cell_type": "code",
   "execution_count": 31,
   "id": "662d3350",
   "metadata": {
    "execution": {
     "iopub.execute_input": "2021-08-24T12:38:34.483259Z",
     "iopub.status.busy": "2021-08-24T12:38:34.482219Z",
     "iopub.status.idle": "2021-08-24T12:38:34.491217Z",
     "shell.execute_reply": "2021-08-24T12:38:34.490699Z",
     "shell.execute_reply.started": "2021-08-24T12:26:21.775866Z"
    },
    "papermill": {
     "duration": 0.060221,
     "end_time": "2021-08-24T12:38:34.491390",
     "exception": false,
     "start_time": "2021-08-24T12:38:34.431169",
     "status": "completed"
    },
    "tags": []
   },
   "outputs": [
    {
     "name": "stdout",
     "output_type": "stream",
     "text": [
      "              precision    recall  f1-score   support\n",
      "\n",
      "           0       0.86      0.60      0.71        20\n",
      "           1       0.71      1.00      0.83         5\n",
      "           2       1.00      1.00      1.00         1\n",
      "           3       0.62      1.00      0.77         5\n",
      "           4       0.70      0.78      0.74         9\n",
      "\n",
      "    accuracy                           0.75        40\n",
      "   macro avg       0.78      0.88      0.81        40\n",
      "weighted avg       0.78      0.75      0.74        40\n",
      "\n"
     ]
    }
   ],
   "source": [
    "print(classification_report(y_test.values.ravel(), pred))"
   ]
  },
  {
   "cell_type": "code",
   "execution_count": 32,
   "id": "427366b4",
   "metadata": {
    "execution": {
     "iopub.execute_input": "2021-08-24T12:38:34.614510Z",
     "iopub.status.busy": "2021-08-24T12:38:34.611296Z",
     "iopub.status.idle": "2021-08-24T12:38:34.857824Z",
     "shell.execute_reply": "2021-08-24T12:38:34.857263Z",
     "shell.execute_reply.started": "2021-08-24T12:26:54.500614Z"
    },
    "papermill": {
     "duration": 0.317779,
     "end_time": "2021-08-24T12:38:34.857966",
     "exception": false,
     "start_time": "2021-08-24T12:38:34.540187",
     "status": "completed"
    },
    "tags": []
   },
   "outputs": [
    {
     "data": {
      "image/png": "[encoded data removed]",
      "text/plain": [
       "<Figure size 432x288 with 2 Axes>"
      ]
     },
     "metadata": {
      "needs_background": "light"
     },
     "output_type": "display_data"
    }
   ],
   "source": [
    "cm = confusion_matrix(y_test.values.ravel(), pred)\n",
    "cmviz = ConfusionMatrixDisplay(cm).plot()"
   ]
  },
  {
   "cell_type": "code",
   "execution_count": null,
   "id": "b69a00cd",
   "metadata": {
    "papermill": {
     "duration": 0.048392,
     "end_time": "2021-08-24T12:38:34.953771",
     "exception": false,
     "start_time": "2021-08-24T12:38:34.905379",
     "status": "completed"
    },
    "tags": []
   },
   "outputs": [],
   "source": []
  }
 ],
 "metadata": {
  "kernelspec": {
   "display_name": "Python 3",
   "language": "python",
   "name": "python3"
  },
  "language_info": {
   "codemirror_mode": {
    "name": "ipython",
    "version": 3
   },
   "file_extension": ".py",
   "mimetype": "text/x-python",
   "name": "python",
   "nbconvert_exporter": "python",
   "pygments_lexer": "ipython3",
   "version": "3.7.10"
  },
  "papermill": {
   "default_parameters": {},
   "duration": 16.892966,
   "end_time": "2021-08-24T12:38:36.511993",
   "environment_variables": {},
   "exception": null,
   "input_path": "__notebook__.ipynb",
   "output_path": "__notebook__.ipynb",
   "parameters": {},
   "start_time": "2021-08-24T12:38:19.619027",
   "version": "2.3.3"
  }
 },
 "nbformat": 4,
 "nbformat_minor": 5
}
